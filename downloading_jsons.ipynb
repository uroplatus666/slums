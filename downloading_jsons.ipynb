{
 "cells": [
  {
   "cell_type": "code",
   "execution_count": 2,
   "id": "889bc3a8-5099-412e-91ff-610fb97c238e",
   "metadata": {},
   "outputs": [],
   "source": [
    "\"\"\"\n",
    "This snippet demonstrates how to access and convert the buildings\n",
    "data from .csv.gz to geojson for use in common GIS tools. You will\n",
    "need to install pandas, geopandas, and shapely.\n",
    "\"\"\"\n",
    "\n",
    "import pandas as pd\n",
    "import geopandas as gpd\n",
    "from shapely.geometry import shape\n",
    "\n",
    "def main():\n",
    "    # this is the name of the geography you want to retrieve. update to meet your needs\n",
    "    location = 'India'\n",
    "\n",
    "    dataset_links = pd.read_csv(\"https://minedbuildings.z5.web.core.windows.net/global-buildings/dataset-links.csv\")\n",
    "    greece_links = dataset_links[dataset_links.Location == location]\n",
    "    for _, row in greece_links.iterrows():\n",
    "        df = pd.read_json(row.Url, lines=True)\n",
    "        df['geometry'] = df['geometry'].apply(shape)\n",
    "        gdf = gpd.GeoDataFrame(df, crs=4326)\n",
    "        gdf.to_file(f\"data/{row.QuadKey}.geojson\", driver=\"GeoJSON\")\n",
    "\n",
    "\n",
    "if __name__ == \"__main__\":\n",
    "    main()"
   ]
  }
 ],
 "metadata": {
  "kernelspec": {
   "display_name": "Python 3 (ipykernel)",
   "language": "python",
   "name": "python3"
  },
  "language_info": {
   "codemirror_mode": {
    "name": "ipython",
    "version": 3
   },
   "file_extension": ".py",
   "mimetype": "text/x-python",
   "name": "python",
   "nbconvert_exporter": "python",
   "pygments_lexer": "ipython3",
   "version": "3.12.9"
  }
 },
 "nbformat": 4,
 "nbformat_minor": 5
}
